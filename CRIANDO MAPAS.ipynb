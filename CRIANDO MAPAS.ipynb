{
 "cells": [
  {
   "cell_type": "markdown",
   "id": "1c3667d1",
   "metadata": {},
   "source": [
    "CRIANDO MAPAS"
   ]
  },
  {
   "cell_type": "code",
   "execution_count": 7,
   "id": "aaceb022",
   "metadata": {},
   "outputs": [],
   "source": [
    "import folium\n",
    "\n",
    "#CRIA O MAPA#\n",
    "mapa = folium.Map(\n",
    "    location=[-29.04212173674177, -51.18127688291443],\n",
    "    tiles='Stamen Terrain', #ESTILO DO MAPA#\n",
    "    zoom_start=16\n",
    ")\n",
    "#ADICIONA O MARCADOR NO MAPA\n",
    "folium.Marker(\n",
    "    [-29.04212173674177, -51.18127688291443],\n",
    "    popup='<i>Rede Sim<i>',\n",
    "    tooltip='Clique aqui!'\n",
    ").add_to(mapa)\n",
    "#SALVA HTML DO MAPA#\n",
    "mapa.save(r'.\\mapa.html')"
   ]
  },
  {
   "cell_type": "code",
   "execution_count": null,
   "id": "f497fe2f",
   "metadata": {},
   "outputs": [],
   "source": [
    "[-23.5500993493433984, -46.6341472592547"
   ]
  }
 ],
 "metadata": {
  "kernelspec": {
   "display_name": "Python 3 (ipykernel)",
   "language": "python",
   "name": "python3"
  },
  "language_info": {
   "codemirror_mode": {
    "name": "ipython",
    "version": 3
   },
   "file_extension": ".py",
   "mimetype": "text/x-python",
   "name": "python",
   "nbconvert_exporter": "python",
   "pygments_lexer": "ipython3",
   "version": "3.9.7"
  }
 },
 "nbformat": 4,
 "nbformat_minor": 5
}
