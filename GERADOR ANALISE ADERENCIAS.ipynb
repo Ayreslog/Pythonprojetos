{
 "cells": [
  {
   "cell_type": "markdown",
   "metadata": {},
   "source": [
    "GERADOR DE ANALISE DE ADERENCIAS ==================="
   ]
  },
  {
   "cell_type": "code",
   "execution_count": 4,
   "metadata": {},
   "outputs": [],
   "source": [
    "import pandas as pd\n",
    "import numpy as np\n",
    "import pyautogui\n",
    "import pyperclip\n",
    "import time\n",
    "\n",
    "import pyautogui\n",
    "import pyperclip\n",
    "import time\n",
    "\n",
    "time.sleep(5)\n",
    "\n",
    "#CLICA EM RELATÓRIOS\n",
    "pyautogui.click(x=167, y=33)\n",
    "time.sleep(2)\n",
    "#CLICA EM GERAR CSV DA CONTAGEM\n",
    "pyautogui.click(x=540, y=654)\n",
    "time.sleep(2)\n",
    "#CLICA EM SALVAR CSV\n",
    "pyautogui.click(x=520, y=476)\n",
    "time.sleep(10)\n",
    "#CLICA EM FECHAR CSV\n",
    "pyautogui.click(x=1340, y=12)\n",
    "time.sleep(5)\n",
    "\n",
    "#CLICA NA BARRA DE ROLAGEM PARA DESCER\n",
    "pyautogui.click(x=1355, y=655)\n",
    "time.sleep(2)\n",
    "#CLICA EM GERAR CSV DESCARTE\n",
    "pyautogui.click(x=522, y=693)\n",
    "time.sleep(2)\n",
    "#CLICA EM SALVAR CSV\n",
    "pyautogui.click(x=504, y=483)\n",
    "time.sleep(10)\n",
    "#CLICA EM FECHAR CSV\n",
    "pyautogui.click(x=1333, y=17)\n",
    "time.sleep(10)\n",
    "\n",
    "contagem = pd.read_csv('C:/Users/ayres.filho/Desktop/Quantidade média de contagem - 12042023.csv', sep = \";\")\n",
    "descarte = pd.read_csv('C:/Users/ayres.filho/Desktop/Frequência de descartes - 12042023.csv', sep = \";\")\n",
    "df = pd.read_excel('C:/Users/ayres.filho/Desktop/Auditoria/GA/APOIO.xlsx')\n",
    "aderencias = pd.merge(contagem, descarte, left_on=\"cod_posto\", right_on=\"codigo_posto\", how=\"right\")\n",
    "resultado_aderencias = pd.merge(aderencias, df, left_on=\"cod_posto\", right_on=\"COD UNI\", how=\"right\")\n",
    "resultado_aderencias.drop([\"percentual_contagem\",\"codigo_posto\",\"nome_posto_y\",\"COD UNI\",\"Rel. Ciclica\",\"Unidades 33/Ciclica Padrão\",\"COD\"],axis=1, inplace=True)\n",
    "resultado_aderencias.loc[resultado_aderencias.qtde_contagem>0,'qtde_contagem']='FEITO'\n",
    "resultado_aderencias.loc[resultado_aderencias.descartes>0,'descartes']='FEITO'\n",
    "resultado_aderencias = resultado_aderencias[resultado_aderencias.nome_posto_x != \"RIO GRANDE SENANDES\"]\n",
    "resultado_aderencias = resultado_aderencias[resultado_aderencias.nome_posto_x != \"LOJA MATRIZ\"]\n",
    "resultado_aderencias = resultado_aderencias[resultado_aderencias.GA != \"CD LAJEADO\"]\n",
    "resultado_aderencias.to_excel(\"Resultado aderencias.xlsx\", index=False)\n",
    "Ezequiel = resultado_aderencias.set_index('GA')\n",
    "Ezequiel1 = Ezequiel.loc['Ezequiel']\n",
    "Ezequiel1.to_excel(\"Resultado aderencias Ezequiel.xlsx\", index=False)\n",
    "Luciano1 = resultado_aderencias.set_index('GA')\n",
    "Luciano1 = Luciano1.loc['Luciano Gomes']\n",
    "Luciano1.to_excel(\"Resultado aderencias Luciano.xlsx\", index=False)\n",
    "Fernando1 = resultado_aderencias.set_index('GA')\n",
    "Fernando1 = Fernando1.loc['Fernando Dupim']\n",
    "Fernando1.to_excel(\"Resultado aderencias Fernando.xlsx\", index=False)\n",
    "Vicente1 = resultado_aderencias.set_index('GA')\n",
    "Vicente1 = Vicente1.loc['Rafael Vicente']\n",
    "Vicente1.to_excel(\"Resultado aderencias Vicente.xlsx\", index=False)\n",
    "Leo1 = resultado_aderencias.set_index('GA')\n",
    "Leo1 = Leo1.loc['Leonardo Teixeira']\n",
    "Leo1.to_excel(\"Resultado aderencias Leo.xlsx\", index=False)\n",
    "Marco1 = resultado_aderencias.set_index('GA')\n",
    "Marco1 = Marco1.loc['Marco Azambuja']\n",
    "Marco1.to_excel(\"Resultado aderencias Marco.xlsx\", index=False)\n",
    "Rossano1 = resultado_aderencias.set_index('GA')\n",
    "Rossano1 = Rossano1.loc['Rossano']\n",
    "Rossano1.to_excel(\"Resultado aderencias Rossano.xlsx\", index=False)\n",
    "Valmor1 = resultado_aderencias.set_index('GA')\n",
    "Valmor1 = Valmor1.loc['Valmor Cordova']\n",
    "Valmor1.to_excel(\"Resultado aderencias Valmor.xlsx\", index=False)\n",
    "Moises1 = resultado_aderencias.set_index('GA')\n",
    "Moises1 = Moises1.loc['Moises Ferreira']\n",
    "Moises1.to_excel(\"Resultado aderencias Moises.xlsx\", index=False)\n",
    "Marta1 = resultado_aderencias.set_index('GA')\n",
    "Marta1 = Marta1.loc['Marta Cristina']\n",
    "Marta1.to_excel(\"Resultado aderencias Marta.xlsx\", index=False)\n",
    "Vanessa1 = resultado_aderencias.set_index('GA')\n",
    "Vanessa1 = Vanessa1.loc['Vanessa Guadagnin']\n",
    "Vanessa1.to_excel(\"Resultado aderencias Vanessa.xlsx\", index=False)\n",
    "Francis1 = resultado_aderencias.set_index('GA')\n",
    "Francis1 = Francis1.loc['Francis engerroff']\n",
    "Francis1.to_excel(\"Resultado aderencias Francis.xlsx\", index=False)\n",
    "Valdir1 = resultado_aderencias.set_index('GA')\n",
    "Valdir1 = Valdir1.loc['Valdir']\n",
    "Valdir1.to_excel(\"Resultado aderencias Valdir.xlsx\", index=False)\n",
    "Marcelo1 = resultado_aderencias.set_index('GA')\n",
    "Marcelo1 = Marcelo1.loc['Marcelo']\n",
    "Marcelo1.to_excel(\"Resultado aderencias Marcelo.xlsx\", index=False)"
   ]
  },
  {
   "cell_type": "markdown",
   "metadata": {},
   "source": []
  },
  {
   "cell_type": "markdown",
   "metadata": {},
   "source": []
  }
 ],
 "metadata": {
  "kernelspec": {
   "display_name": "Python 3.9.7 ('base')",
   "language": "python",
   "name": "python3"
  },
  "language_info": {
   "codemirror_mode": {
    "name": "ipython",
    "version": 3
   },
   "file_extension": ".py",
   "mimetype": "text/x-python",
   "name": "python",
   "nbconvert_exporter": "python",
   "pygments_lexer": "ipython3",
   "version": "3.9.7"
  },
  "orig_nbformat": 4,
  "vscode": {
   "interpreter": {
    "hash": "70cbdd0827ddceaa2ec711c318b2608293c15635dea76df3b1baebb17a12697d"
   }
  }
 },
 "nbformat": 4,
 "nbformat_minor": 2
}
